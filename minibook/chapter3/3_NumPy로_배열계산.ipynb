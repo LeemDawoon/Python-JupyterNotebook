{
 "cells": [
  {
   "cell_type": "code",
   "execution_count": 1,
   "metadata": {
    "collapsed": true
   },
   "outputs": [],
   "source": [
    "import numpy as np\n",
    "import pandas as pd\n",
    "import matplotlib.pyplot as plt\n",
    "import seaborn\n",
    "%matplotlib inline\n",
    "\n",
    "data = pd.read_csv('../chapter2/data/nyc_data.csv', parse_dates=['pickup_datetime','dropoff_datetime'])"
   ]
  },
  {
   "cell_type": "code",
   "execution_count": 3,
   "metadata": {},
   "outputs": [
    {
     "data": {
      "text/plain": [
       "array([[-73.955925,  40.781887],\n",
       "       [-74.005501,  40.745735],\n",
       "       [-73.969955,  40.79977 ],\n",
       "       ..., \n",
       "       [-73.993492,  40.729347],\n",
       "       [-73.978477,  40.772945],\n",
       "       [-73.987206,  40.750568]])"
      ]
     },
     "execution_count": 3,
     "metadata": {},
     "output_type": "execute_result"
    }
   ],
   "source": [
    "pickup = data[['pickup_longitude', 'pickup_latitude']].values\n",
    "dropoff = data[['dropoff_longitude', 'dropoff_latitude']].values\n",
    "pickup"
   ]
  },
  {
   "cell_type": "code",
   "execution_count": 4,
   "metadata": {},
   "outputs": [
    {
     "name": "stdout",
     "output_type": "stream",
     "text": [
      "40.755081\n"
     ]
    }
   ],
   "source": [
    "#배열선택1\n",
    "print(pickup[3,1])"
   ]
  },
  {
   "cell_type": "code",
   "execution_count": 5,
   "metadata": {},
   "outputs": [
    {
     "data": {
      "text/plain": [
       "array([[ 40.745735],\n",
       "       [ 40.755081],\n",
       "       [ 40.768978]])"
      ]
     },
     "execution_count": 5,
     "metadata": {},
     "output_type": "execute_result"
    }
   ],
   "source": [
    "#배열선택2\n",
    "pickup[1:7:2, 1:]"
   ]
  },
  {
   "cell_type": "code",
   "execution_count": 7,
   "metadata": {},
   "outputs": [
    {
     "data": {
      "text/plain": [
       "array([-73.955925, -74.005501, -73.969955, ..., -73.993492, -73.978477,\n",
       "       -73.987206])"
      ]
     },
     "execution_count": 7,
     "metadata": {},
     "output_type": "execute_result"
    }
   ],
   "source": [
    "#배열선택3\n",
    "lon = pickup[:,0]\n",
    "lon"
   ]
  },
  {
   "cell_type": "code",
   "execution_count": 13,
   "metadata": {
    "collapsed": true
   },
   "outputs": [],
   "source": [
    "lat = pickup[:,1]"
   ]
  },
  {
   "cell_type": "code",
   "execution_count": 14,
   "metadata": {
    "collapsed": true
   },
   "outputs": [],
   "source": [
    "#배열의 불린연산\n",
    "lon_min, lon_max = (-73.98330, -73.98025)\n",
    "lat_min, lat_max = (40.76724, 40.76871)"
   ]
  },
  {
   "cell_type": "code",
   "execution_count": 15,
   "metadata": {},
   "outputs": [
    {
     "data": {
      "text/plain": [
       "array([False, False, False, ..., False, False, False], dtype=bool)"
      ]
     },
     "execution_count": 15,
     "metadata": {},
     "output_type": "execute_result"
    }
   ],
   "source": [
    "in_lon = (lon_min <= lon) & (lon <= lon_max) # &AND |OR\n",
    "in_lon"
   ]
  },
  {
   "cell_type": "code",
   "execution_count": 16,
   "metadata": {},
   "outputs": [
    {
     "data": {
      "text/plain": [
       "69163"
      ]
     },
     "execution_count": 16,
     "metadata": {},
     "output_type": "execute_result"
    }
   ],
   "source": [
    "#얼마나 많은 True 가 있는가?\n",
    "in_lon.sum() #True는 1, False 는 0 취급"
   ]
  },
  {
   "cell_type": "code",
   "execution_count": 17,
   "metadata": {
    "collapsed": true
   },
   "outputs": [],
   "source": [
    "in_lat = (lat_min <= lat) & (lat <= lat_max)"
   ]
  },
  {
   "cell_type": "code",
   "execution_count": 18,
   "metadata": {},
   "outputs": [
    {
     "data": {
      "text/plain": [
       "3998"
      ]
     },
     "execution_count": 18,
     "metadata": {},
     "output_type": "execute_result"
    }
   ],
   "source": [
    "in_lonlat = in_lon & in_lat\n",
    "in_lonlat.sum()"
   ]
  },
  {
   "cell_type": "code",
   "execution_count": 19,
   "metadata": {},
   "outputs": [
    {
     "data": {
      "text/plain": [
       "array([False, False, False, ..., False, False, False], dtype=bool)"
      ]
     },
     "execution_count": 19,
     "metadata": {},
     "output_type": "execute_result"
    }
   ],
   "source": [
    "in_lonlat"
   ]
  },
  {
   "cell_type": "code",
   "execution_count": 20,
   "metadata": {},
   "outputs": [
    {
     "data": {
      "text/plain": [
       "array([   901,   1011,   1066, ..., 845749, 845903, 846080])"
      ]
     },
     "execution_count": 20,
     "metadata": {},
     "output_type": "execute_result"
    }
   ],
   "source": [
    "np.nonzero(in_lonlat)[0] #불린 배열에서 True에 해당하는 인덱스틑 반환"
   ]
  },
  {
   "cell_type": "code",
   "execution_count": 21,
   "metadata": {
    "collapsed": true
   },
   "outputs": [],
   "source": [
    "#하차 죄표\n",
    "# T는 행렬의 전치Transpose. 여기선, (N,2) => (2,N)\n",
    "# lon1는 첫행, lat1은 두번째 행\n",
    "lon1, lat1 = dropoff.T "
   ]
  },
  {
   "cell_type": "code",
   "execution_count": 22,
   "metadata": {
    "collapsed": true
   },
   "outputs": [],
   "source": [
    "#모든 운행에서 두 위치간 직선거리\n",
    "# spherical Earth approximation로 great-circle 거리 계산\n",
    "EARTH_R = 6372.8\n",
    "def geo_distance(lon0, lat0, lon1, lat1):\n",
    "    \"\"\"지리적 좌표로 두 점간의 거리를 km으로 반환\"\"\"\n",
    "    # from: https://en.wikipedia.org/wiki/Great-circle_distance\n",
    "    # https://stackoverflow.com/questions/8858838/need-help-calculating-geographical-distance/8859667#8859667\n",
    "    lon0 = np.radians(lon0)\n",
    "    lat0 = np.radians(lat0)\n",
    "    lon1 = np.radians(lon1)\n",
    "    lat1 = np.radians(lat1)\n",
    "    dlon = lon0 - lon1\n",
    "    y = np.sqrt(\n",
    "        (np.cos(lat1) * np.sin(dlon)) ** 2\n",
    "        + (np.cos(lat0) * np.sin(lat1) - np.sin(lat0)*np.cos(lat1)*np.cos(dlon))**2\n",
    "    )\n",
    "    x = np.sin(lat0)*np.sin(lat1) + np.cos(lat0)*np.cos(lat1)*np.cos(dlon)\n",
    "    c = np.arctan2(y,x)\n",
    "    return EARTH_R * c"
   ]
  },
  {
   "cell_type": "code",
   "execution_count": 24,
   "metadata": {
    "collapsed": true
   },
   "outputs": [],
   "source": [
    "distances = geo_distance(lon, lat, lon1, lat1)"
   ]
  },
  {
   "cell_type": "code",
   "execution_count": 27,
   "metadata": {},
   "outputs": [
    {
     "data": {
      "text/plain": [
       "<matplotlib.text.Text at 0x7f03ab8c6320>"
      ]
     },
     "execution_count": 27,
     "metadata": {},
     "output_type": "execute_result"
    },
    {
     "name": "stderr",
     "output_type": "stream",
     "text": [
      "/opt/conda/lib/python3.6/site-packages/matplotlib/font_manager.py:1297: UserWarning: findfont: Font family ['sans-serif'] not found. Falling back to DejaVu Sans\n",
      "  (prop.get_family(), self.defaultFamily[fontext]))\n"
     ]
    },
    {
     "data": {
      "image/png": "[encoded data removed]",
      "text/plain": [
       "<matplotlib.figure.Figure at 0x7f03b021bcc0>"
      ]
     },
     "metadata": {},
     "output_type": "display_data"
    }
   ],
   "source": [
    "plt.hist(distances[in_lonlat], np.linspace(0., 10., 50))\n",
    "plt.xlabel('Trip distance (km)')\n",
    "plt.ylabel('Number of trips')"
   ]
  },
  {
   "cell_type": "code",
   "execution_count": 31,
   "metadata": {},
   "outputs": [
    {
     "data": {
      "text/plain": [
       "242818"
      ]
     },
     "execution_count": 31,
     "metadata": {},
     "output_type": "execute_result"
    }
   ],
   "source": [
    "#NumPy로 밀도 지도 그리기\n",
    "# 하루중 특정 시간의 승하차 위차에 대한 2D 밀도 지도를 계산하고 그려보자\n",
    "\"\"\"\n",
    "cf) 판다스는 필터링, 선택, 그룹 등 데이터 조작에 유용. NumPy는 벡터 수학 연산에 탁월\n",
    "\"\"\"\n",
    "evening = (data.pickup_datetime.dt.hour >= 19).values\n",
    "n = np.sum(evening)\n",
    "n #n은 데이터 셋에서 저녁 운행수"
   ]
  },
  {
   "cell_type": "code",
   "execution_count": 33,
   "metadata": {},
   "outputs": [
    {
     "data": {
      "text/plain": [
       "(485636,)"
      ]
     },
     "execution_count": 33,
     "metadata": {},
     "output_type": "execute_result"
    }
   ],
   "source": [
    "\"\"\"\n",
    "n저녁운행헤 대한 모든 승하차 위치 => 2n\n",
    "승차위치 -1 가중치 부여\n",
    "하차위치 +1 가중치 부여\n",
    "주어진 위치의 산술 밀도는 이 위치에서 출발하거나 도착한 사람을 반영\n",
    "\"\"\"\n",
    "weights = np.zeros(2*n)\n",
    "weights.shape"
   ]
  },
  {
   "cell_type": "code",
   "execution_count": 34,
   "metadata": {
    "collapsed": true
   },
   "outputs": [],
   "source": [
    "weights[:n] = -1\n",
    "weights[n:] = +1"
   ]
  },
  {
   "cell_type": "code",
   "execution_count": 35,
   "metadata": {},
   "outputs": [
    {
     "data": {
      "text/plain": [
       "(485636, 2)"
      ]
     },
     "execution_count": 35,
     "metadata": {},
     "output_type": "execute_result"
    }
   ],
   "source": [
    "# 저년 운행에 대한 승하차 위치를 열로 붙인 (2n, 2) 배열 생성\n",
    "points = np.r_[pickup[evening], dropoff[evening]] # np.r_은 첫번째 열 차원을 따라 배열을 붙이게 된다.\n",
    "points.shape"
   ]
  },
  {
   "cell_type": "code",
   "execution_count": 36,
   "metadata": {
    "collapsed": true
   },
   "outputs": [],
   "source": [
    "def lat_lng_to_pixels(lat, lng):\n",
    "    #메르카토르 도법(Mercator Projection) 좌표=>픽셀\n",
    "    lat_rad = lat * np.pi / 180.0\n",
    "    lat_rad = np.log(np.tan((lat_rad + np.pi/2.0)/2.0))\n",
    "    x=100*(lng+180.0)/360.0\n",
    "    y=100*(lat_rad-np.pi)/(2.0*np.pi)\n",
    "    return (x,y)"
   ]
  },
  {
   "cell_type": "code",
   "execution_count": 38,
   "metadata": {},
   "outputs": [],
   "source": [
    "lon, lat = points.T\n",
    "x, y = lat_lng_to_pixels(lat, lon)"
   ]
  },
  {
   "cell_type": "code",
   "execution_count": 53,
   "metadata": {
    "collapsed": true
   },
   "outputs": [],
   "source": [
    "lon_min, lat_min = -74.0214, 40.6978\n",
    "lon_max, lat_max = -73.9524, 40.7982"
   ]
  },
  {
   "cell_type": "code",
   "execution_count": 54,
   "metadata": {
    "collapsed": true
   },
   "outputs": [],
   "source": [
    "x_min, y_min = lat_lng_to_pixels(lat_min, lon_min)\n",
    "x_max, y_max = lat_lng_to_pixels(lat_max, lon_max)"
   ]
  },
  {
   "cell_type": "code",
   "execution_count": 55,
   "metadata": {
    "collapsed": true
   },
   "outputs": [],
   "source": [
    "binn =.00003 # 히스토그램 구간설정\n",
    "bins_x = np.arange(x_min, x_max, binn)\n",
    "bins_y = np.arange(y_min, y_max, binn)"
   ]
  },
  {
   "cell_type": "code",
   "execution_count": 57,
   "metadata": {},
   "outputs": [],
   "source": [
    "grid, _, _ = np.histogram2d(y, x, weights=weights, bins=(bins_y, bins_x))"
   ]
  },
  {
   "cell_type": "code",
   "execution_count": 58,
   "metadata": {
    "collapsed": true
   },
   "outputs": [],
   "source": [
    "# 밀도 함수를 출력하기 전에, 부드럽게 하기위해 로지스틱 함수 적용\n",
    "density = 1./ (1. +np.exp(-.5 * grid))"
   ]
  },
  {
   "cell_type": "code",
   "execution_count": 59,
   "metadata": {},
   "outputs": [
    {
     "data": {
      "text/plain": [
       "<matplotlib.image.AxesImage at 0x7f03a90d36a0>"
      ]
     },
     "execution_count": 59,
     "metadata": {},
     "output_type": "execute_result"
    },
    {
     "name": "stderr",
     "output_type": "stream",
     "text": [
      "/opt/conda/lib/python3.6/site-packages/matplotlib/font_manager.py:1297: UserWarning: findfont: Font family ['sans-serif'] not found. Falling back to DejaVu Sans\n",
      "  (prop.get_family(), self.defaultFamily[fontext]))\n"
     ]
    },
    {
     "data": {
      "image/png": "[encoded data removed]",
      "text/plain": [
       "<matplotlib.figure.Figure at 0x7f03ad828ac8>"
      ]
     },
     "metadata": {},
     "output_type": "display_data"
    }
   ],
   "source": [
    "plt.imshow(density, origin='lower', interpolation='bicubic')\n",
    "# 흰지역은 하차위치, 검은 지역은 승차위치\n",
    "# 보간interpolation 메소드 지원.\n"
   ]
  }
 ],
 "metadata": {
  "kernelspec": {
   "display_name": "Python 3",
   "language": "python",
   "name": "python3"
  },
  "language_info": {
   "codemirror_mode": {
    "name": "ipython",
    "version": 3
   },
   "file_extension": ".py",
   "mimetype": "text/x-python",
   "name": "python",
   "nbconvert_exporter": "python",
   "pygments_lexer": "ipython3",
   "version": "3.6.1"
  }
 },
 "nbformat": 4,
 "nbformat_minor": 2
}
