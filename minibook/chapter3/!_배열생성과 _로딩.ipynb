{
 "cells": [
  {
   "cell_type": "code",
   "execution_count": 2,
   "metadata": {},
   "outputs": [
    {
     "name": "stdout",
     "output_type": "stream",
     "text": [
      "ones [ 1.  1.  1.  1.  1.]\n",
      "arange [0 1 2 3 4]\n",
      "linspace [ 0.    0.25  0.5   0.75  1.  ]\n",
      "random [ 0.7752308   0.37411461  0.44786263]\n",
      "custom [2 3 5]\n"
     ]
    }
   ],
   "source": [
    "#배열 생성\n",
    "import numpy as np\n",
    "print(\"ones\", np.ones(5))\n",
    "print(\"arange\", np.arange(5))\n",
    "print(\"linspace\", np.linspace(0., 1., 5))\n",
    "print(\"random\", np.random.uniform(size=3)) # np.random 모듈에는, 균일(uniform), 지수(exeponential), 기우시안 등의 다양한 분산 가능\n",
    "print(\"custom\", np.array([2,3,5])) # 리스트나 튜플을 배열로 벼노한"
   ]
  },
  {
   "cell_type": "code",
   "execution_count": 3,
   "metadata": {},
   "outputs": [
    {
     "data": {
      "text/plain": [
       "array([[1, 2],\n",
       "       [3, 4]])"
      ]
     },
     "execution_count": 3,
     "metadata": {},
     "output_type": "execute_result"
    }
   ],
   "source": [
    "np.array([[1,2],[3,4]])"
   ]
  },
  {
   "cell_type": "code",
   "execution_count": 5,
   "metadata": {},
   "outputs": [
    {
     "name": "stdout",
     "output_type": "stream",
     "text": [
      "ones [1 1 1 1 1]\n"
     ]
    }
   ],
   "source": [
    "# ones  arange에 데이터 타입 명시하기\n",
    "print(\"ones\", np.ones(5, dtype=np.int64))"
   ]
  },
  {
   "cell_type": "code",
   "execution_count": 6,
   "metadata": {},
   "outputs": [
    {
     "name": "stdout",
     "output_type": "stream",
     "text": [
      "arange [ 0.  1.  2.  3.  4.]\n"
     ]
    }
   ],
   "source": [
    "# astype()는 배열을 다른 타입으로 변환한다.\n",
    "print(\"arange\", np.arange(5).astype(np.float64))"
   ]
  },
  {
   "cell_type": "code",
   "execution_count": 7,
   "metadata": {
    "collapsed": true
   },
   "outputs": [],
   "source": [
    "#파일에서 배열 로딩\n",
    "import pandas as pd\n",
    "data= pd.read_csv('../chapter2/data/nyc_data.csv')"
   ]
  },
  {
   "cell_type": "code",
   "execution_count": 8,
   "metadata": {},
   "outputs": [
    {
     "data": {
      "text/plain": [
       "array([[-73.955925,  40.781887],\n",
       "       [-74.005501,  40.745735],\n",
       "       [-73.969955,  40.79977 ],\n",
       "       ..., \n",
       "       [-73.993492,  40.729347],\n",
       "       [-73.978477,  40.772945],\n",
       "       [-73.987206,  40.750568]])"
      ]
     },
     "execution_count": 8,
     "metadata": {},
     "output_type": "execute_result"
    }
   ],
   "source": [
    "# 판다스 => NumPy. Dataframe과 Series에 있는 .value 속성을 사용\n",
    "\"\"\"\n",
    "Series는 1D NumPy 배열\n",
    "Dataframe는 2D NumPy 배열\n",
    "패널는 3D NumPy 배열\n",
    "\"\"\"\n",
    "# 모든 운행 좌표 (N, 2) 배열\n",
    "pickup = data[['pickup_longitude', 'pickup_latitude']].values\n",
    "pickup"
   ]
  },
  {
   "cell_type": "code",
   "execution_count": 9,
   "metadata": {},
   "outputs": [
    {
     "data": {
      "text/plain": [
       "(846945, 2)"
      ]
     },
     "execution_count": 9,
     "metadata": {},
     "output_type": "execute_result"
    }
   ],
   "source": [
    "pickup.shape"
   ]
  }
 ],
 "metadata": {
  "kernelspec": {
   "display_name": "Python 3",
   "language": "python",
   "name": "python3"
  },
  "language_info": {
   "codemirror_mode": {
    "name": "ipython",
    "version": 3
   },
   "file_extension": ".py",
   "mimetype": "text/x-python",
   "name": "python",
   "nbconvert_exporter": "python",
   "pygments_lexer": "ipython3",
   "version": "3.6.1"
  }
 },
 "nbformat": 4,
 "nbformat_minor": 2
}
