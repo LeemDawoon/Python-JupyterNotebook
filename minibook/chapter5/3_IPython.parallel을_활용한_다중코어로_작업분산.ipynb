{
 "cells": [
  {
   "cell_type": "code",
   "execution_count": 1,
   "metadata": {},
   "outputs": [
    {
     "name": "stdout",
     "output_type": "stream",
     "text": [
      "Fetching package metadata .........\n",
      "Solving package specifications: .\n",
      "\n",
      "Package plan for installation in environment /opt/conda:\n",
      "\n",
      "The following NEW packages will be INSTALLED:\n",
      "\n",
      "    ipyparallel: 6.0.2-py36_0\n",
      "\n",
      "ipyparallel-6. 100% |################################| Time: 0:00:01 166.34 kB/s\n"
     ]
    }
   ],
   "source": [
    "\"\"\"\n",
    "멀티코어 컴퓨터에서 다수의 태스크를 별렬로 실행하는 방법\n",
    "\"\"\"\n",
    "!conda install ipyparallel -y"
   ]
  },
  {
   "cell_type": "code",
   "execution_count": 2,
   "metadata": {
    "collapsed": true
   },
   "outputs": [],
   "source": [
    "import numpy as np\n",
    "from ipyparallel import Client\n",
    "\"\"\"\n",
    "ipyparallel을 사용하려면 몇개의 엔진을 실행해야 한다.\n",
    "1. ipcluster start 실행\n",
    "\"\"\""
   ]
  }
 ],
 "metadata": {
  "kernelspec": {
   "display_name": "Python 3",
   "language": "python",
   "name": "python3"
  },
  "language_info": {
   "codemirror_mode": {
    "name": "ipython",
    "version": 3
   },
   "file_extension": ".py",
   "mimetype": "text/x-python",
   "name": "python",
   "nbconvert_exporter": "python",
   "pygments_lexer": "ipython3",
   "version": "3.6.1"
  }
 },
 "nbformat": 4,
 "nbformat_minor": 2
}
