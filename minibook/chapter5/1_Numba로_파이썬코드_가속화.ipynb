{
 "cells": [
  {
   "cell_type": "code",
   "execution_count": 3,
   "metadata": {},
   "outputs": [
    {
     "name": "stdout",
     "output_type": "stream",
     "text": [
      "Fetching package metadata .........\n",
      "Solving package specifications: .\n",
      "\n",
      "Package plan for installation in environment /opt/conda:\n",
      "\n",
      "The following packages will be UPDATED:\n",
      "\n",
      "    conda: 4.3.21-py36_0 --> 4.3.22-py36_0\n",
      "\n",
      "conda-4.3.22-p 100% |################################| Time: 0:00:03 137.81 kB/s\n"
     ]
    }
   ],
   "source": [
    "#커맨드라인에서 conda install numba 입력\n",
    "#!conda install numba -y"
   ]
  },
  {
   "cell_type": "code",
   "execution_count": 5,
   "metadata": {},
   "outputs": [],
   "source": [
    "\"\"\"\n",
    "파이썬 반복문은 느리다.\n",
    "다행스럽게도 Numba는 JIT(just in time) 컴파일러를 제공한다.\n",
    "이 컴파일은 LLVM 컴파일 구조 덕분에 파이썬 코드를 기계코드로 바로 컴파일 한다.\n",
    "\"\"\"\n",
    "import math\n",
    "import random\n",
    "import numpy as np\n",
    "from numba import jit, vectorize, float64\n",
    "import matplotlib.pyplot as plt\n",
    "import seaborn\n",
    "%matplotlib inline"
   ]
  },
  {
   "cell_type": "code",
   "execution_count": 6,
   "metadata": {
    "collapsed": true
   },
   "outputs": [],
   "source": [
    "\"\"\"\n",
    "램덤워크\n",
    "점프하는 랜덤워크를 시뮬레이션해보자.\n",
    "분자는 실수 직선에 이쏙 0에서 시작한다.\n",
    "매 단위시간에 분자는 오른쪽이나 왼쪽으로 이동한다.\n",
    "분자가 경계점을 넘으면 최초 위치로 되돌아온다.\n",
    "\n",
    "신경과학에서 이러한 확률적모델을 사용한다.\n",
    "경계점이 없다면 이 모델을 '브라운 운동'이라 한다.\n",
    "(브라운 운동을 NumPy의 np.cumsum()로 효과적으로 시뮬레이션할 수 있다.)\n",
    "\"\"\"\n",
    "#다음 랜덤워크 함수는 -1이나 1을 무작위로 반환한다.\n",
    "def step():\n",
    "    return 1. if random.random() > .5 else -1."
   ]
  },
  {
   "cell_type": "code",
   "execution_count": 7,
   "metadata": {
    "collapsed": true
   },
   "outputs": [],
   "source": [
    "# n : 총 단계(step)횟수\n",
    "# 매 단계에서 함수는 새로운 위치로 이동하기 위해 이전 위치에 무작위 단계(step)을 더한다.\n",
    "# if 문으로 경계점과 점프를 구현한다.\n",
    "def walk(n):\n",
    "    x = np.zeros(n)\n",
    "    dx = 1. / n\n",
    "    for i in range(n - 1):\n",
    "        x_new = x[i] + dx * step()\n",
    "        if x_new > 5e-3:\n",
    "            x[i+1] = 0.\n",
    "        else : \n",
    "            x[i+1] = x_new\n",
    "    return x       "
   ]
  },
  {
   "cell_type": "code",
   "execution_count": 8,
   "metadata": {
    "collapsed": true
   },
   "outputs": [],
   "source": [
    "n = 100000\n",
    "x = walk(n)"
   ]
  },
  {
   "cell_type": "code",
   "execution_count": 10,
   "metadata": {},
   "outputs": [
    {
     "data": {
      "text/plain": [
       "[<matplotlib.lines.Line2D at 0x7f18e08bd588>]"
      ]
     },
     "execution_count": 10,
     "metadata": {},
     "output_type": "execute_result"
    },
    {
     "name": "stderr",
     "output_type": "stream",
     "text": [
      "/opt/conda/lib/python3.6/site-packages/matplotlib/font_manager.py:1297: UserWarning: findfont: Font family ['sans-serif'] not found. Falling back to DejaVu Sans\n",
      "  (prop.get_family(), self.defaultFamily[fontext]))\n"
     ]
    },
    {
     "data": {
      "image/png": "[encoded data removed]",
      "text/plain": [
       "<matplotlib.figure.Figure at 0x7f18e347df28>"
      ]
     },
     "metadata": {},
     "output_type": "display_data"
    }
   ],
   "source": [
    "plt.plot(x) #궤적에 대한 그림"
   ]
  },
  {
   "cell_type": "code",
   "execution_count": 17,
   "metadata": {},
   "outputs": [
    {
     "name": "stdout",
     "output_type": "stream",
     "text": [
      "10 loops, best of 3: 58.1 ms per loop\n"
     ]
    }
   ],
   "source": [
    "%%timeit #성능평가\n",
    "walk(n)"
   ]
  },
  {
   "cell_type": "code",
   "execution_count": 18,
   "metadata": {
    "collapsed": true
   },
   "outputs": [],
   "source": [
    "#numba로 walk, step 함수를 jit컴파일\n",
    "@jit(nopython=True)\n",
    "def step_numba():\n",
    "    return 1. if random.random() > .5 else -1."
   ]
  },
  {
   "cell_type": "code",
   "execution_count": 19,
   "metadata": {
    "collapsed": true
   },
   "outputs": [],
   "source": [
    "@jit(nopython=True)\n",
    "def walk_numba(n):\n",
    "    x = np.zeros(n)\n",
    "    dx = 1. / n\n",
    "    for i in range(n - 1):\n",
    "        x_new = x[i] + dx * step_numba()\n",
    "        if x_new > 5e-3:\n",
    "            x[i+1] = 0.\n",
    "        else : \n",
    "            x[i+1] = x_new\n",
    "    return x       "
   ]
  },
  {
   "cell_type": "code",
   "execution_count": 21,
   "metadata": {},
   "outputs": [
    {
     "name": "stdout",
     "output_type": "stream",
     "text": [
      "100 loops, best of 3: 3.8 ms per loop\n"
     ]
    }
   ],
   "source": [
    "%%timeit\n",
    "walk_numba(n)\n",
    "\"\"\"\n",
    "함수를 많이 호출한다면 numba가 효과적.\n",
    "(nopython=True 는 반드시 필요하지는 않다.\n",
    "numba는 파이썬 모드와 노파이썬 모드 2가지로 컴파일 할 수있다.\n",
    "- 파이썬모드: CPython 인터프리터로 컴파일, 리스트와 딕셔너리 사용O, Numpy배열O, 더느림\n",
    "- 노파이썬모드: CPython 인터프리터로 컴파일X, 리스트와 딕셔너리 사용X, Numpy배열O, 더빠름\n",
    "\"\"\""
   ]
  },
  {
   "cell_type": "code",
   "execution_count": 27,
   "metadata": {},
   "outputs": [
    {
     "name": "stdout",
     "output_type": "stream",
     "text": [
      "1 loop, best of 3: 1.67 s per loop\n"
     ]
    }
   ],
   "source": [
    "#일반함수\n",
    "\"\"\"\n",
    "numba는 @vectorize 데코레이터를 붙여 Numpy 일반함수(ufuncs)를 만들 수 있도록 한다.\n",
    "이 속성은 수학 스칼라 연산을 구현한 파이썬 함수를, 원소단위를 기본으로 하는 numpy배열에서 작동하는 벡터화 함수로 변환해준다.\n",
    "\"\"\"\n",
    "x = np.random.rand(10000000)\n",
    "%timeit np.cos(2*x**2 + 3*x + 4*np.exp(x**3))"
   ]
  },
  {
   "cell_type": "code",
   "execution_count": 28,
   "metadata": {
    "collapsed": true
   },
   "outputs": [],
   "source": [
    "@vectorize\n",
    "def kernel(x):\n",
    "    return  np.cos(2*x**2 + 3*x + 4*np.exp(x**3))"
   ]
  },
  {
   "cell_type": "code",
   "execution_count": 29,
   "metadata": {},
   "outputs": [
    {
     "data": {
      "text/plain": [
       "-0.98639139715432589"
      ]
     },
     "execution_count": 29,
     "metadata": {},
     "output_type": "execute_result"
    }
   ],
   "source": [
    "kernel(1.)"
   ]
  },
  {
   "cell_type": "code",
   "execution_count": 30,
   "metadata": {},
   "outputs": [
    {
     "name": "stdout",
     "output_type": "stream",
     "text": [
      "1 loop, best of 3: 736 ms per loop\n"
     ]
    }
   ],
   "source": [
    "%timeit kernel(x)"
   ]
  }
 ],
 "metadata": {
  "kernelspec": {
   "display_name": "Python 3",
   "language": "python",
   "name": "python3"
  },
  "language_info": {
   "codemirror_mode": {
    "name": "ipython",
    "version": 3
   },
   "file_extension": ".py",
   "mimetype": "text/x-python",
   "name": "python",
   "nbconvert_exporter": "python",
   "pygments_lexer": "ipython3",
   "version": "3.6.1"
  }
 },
 "nbformat": 4,
 "nbformat_minor": 2
}
