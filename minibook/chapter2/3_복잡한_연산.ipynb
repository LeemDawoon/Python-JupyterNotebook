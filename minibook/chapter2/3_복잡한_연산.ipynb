{
 "cells": [
  {
   "cell_type": "code",
   "execution_count": 1,
   "metadata": {
    "collapsed": true
   },
   "outputs": [],
   "source": [
    "import numpy as np\n",
    "import pandas as pd\n",
    "import matplotlib.pyplot as plt\n",
    "import seaborn\n",
    "%matplotlib inline\n",
    "\n",
    "data = pd.read_csv('data/nyc_data.csv', parse_dates=['pickup_datetime','dropoff_datetime'])\n",
    "fare = pd.read_csv('data/nyc_fare.csv', parse_dates=['pickup_datetime'])"
   ]
  },
  {
   "cell_type": "code",
   "execution_count": 2,
   "metadata": {},
   "outputs": [
    {
     "data": {
      "text/plain": [
       "52"
      ]
     },
     "execution_count": 2,
     "metadata": {},
     "output_type": "execute_result"
    }
   ],
   "source": [
    "# GROUP BY\n",
    "# 택시 데이터셋에서 주간통계를 살펴보고 주근그룹으로 데이터를 나누자\n",
    "weekly=data.groupby(data.pickup_datetime.dt.weekofyear)\n",
    "len(weekly)\n",
    "# data.pickup_datetime.dt.weekofyear = 모든 운행을 주간으로 구분한 series 인스턴스\n",
    "# groupby 메소드는 weekofyear값으로 그룹을 가진 객체를 반환한다.\n",
    "# 1년은 52주므로, weekly는 52개 그룹이 된다."
   ]
  },
  {
   "cell_type": "code",
   "execution_count": 3,
   "metadata": {},
   "outputs": [
    {
     "data": {
      "text/plain": [
       "pickup_datetime\n",
       "1    17042\n",
       "2    15941\n",
       "3    17017\n",
       "dtype: int64"
      ]
     },
     "execution_count": 3,
     "metadata": {},
     "output_type": "execute_result"
    }
   ],
   "source": [
    "y=weekly.size() #각그룹의 행의 수 반납\n",
    "y.head(3)"
   ]
  },
  {
   "cell_type": "code",
   "execution_count": 4,
   "metadata": {},
   "outputs": [
    {
     "data": {
      "text/plain": [
       "pickup_datetime\n",
       "1   2013-01-01 00:00:00\n",
       "2   2013-01-07 00:03:00\n",
       "3   2013-01-14 00:00:51\n",
       "Name: pickup_datetime, dtype: datetime64[ns]"
      ]
     },
     "execution_count": 4,
     "metadata": {},
     "output_type": "execute_result"
    }
   ],
   "source": [
    "#주에 따른 운행 그려보자\n",
    "x=weekly.pickup_datetime.first()\n",
    "x.head(3)"
   ]
  },
  {
   "cell_type": "code",
   "execution_count": 5,
   "metadata": {},
   "outputs": [
    {
     "data": {
      "text/plain": [
       "<matplotlib.text.Text at 0x7f7985ea9080>"
      ]
     },
     "execution_count": 5,
     "metadata": {},
     "output_type": "execute_result"
    },
    {
     "name": "stderr",
     "output_type": "stream",
     "text": [
      "/opt/conda/lib/python3.6/site-packages/matplotlib/font_manager.py:1297: UserWarning: findfont: Font family ['sans-serif'] not found. Falling back to DejaVu Sans\n",
      "  (prop.get_family(), self.defaultFamily[fontext]))\n"
     ]
    },
    {
     "data": {
      "image/png": "[encoded data removed]",
      "text/plain": [
       "<matplotlib.figure.Figure at 0x7f79888a3b38>"
      ]
     },
     "metadata": {},
     "output_type": "display_data"
    }
   ],
   "source": [
    "pd.Series(y.values, index=x).plot()\n",
    "plt.ylim(0) #낮은 y값을 0dp tjfwjd\n",
    "plt.xlabel('Week')\n",
    "plt.ylabel('Taxi rides')"
   ]
  },
  {
   "cell_type": "code",
   "execution_count": 6,
   "metadata": {},
   "outputs": [
    {
     "name": "stdout",
     "output_type": "stream",
     "text": [
      "13407\n"
     ]
    },
    {
     "data": {
      "text/html": [
       "<div>\n",
       "<style>\n",
       "    .dataframe thead tr:only-child th {\n",
       "        text-align: right;\n",
       "    }\n",
       "\n",
       "    .dataframe thead th {\n",
       "        text-align: left;\n",
       "    }\n",
       "\n",
       "    .dataframe tbody tr th {\n",
       "        vertical-align: top;\n",
       "    }\n",
       "</style>\n",
       "<table border=\"1\" class=\"dataframe\">\n",
       "  <thead>\n",
       "    <tr style=\"text-align: right;\">\n",
       "      <th></th>\n",
       "      <th>tip_amount</th>\n",
       "    </tr>\n",
       "    <tr>\n",
       "      <th>medallion</th>\n",
       "      <th></th>\n",
       "    </tr>\n",
       "  </thead>\n",
       "  <tbody>\n",
       "    <tr>\n",
       "      <th>00005007A9F30E289E760362F69E4EAD</th>\n",
       "      <td>1.815854</td>\n",
       "    </tr>\n",
       "    <tr>\n",
       "      <th>000318C2E3E6381580E5C99910A60668</th>\n",
       "      <td>2.857222</td>\n",
       "    </tr>\n",
       "    <tr>\n",
       "      <th>000351EDC735C079246435340A54C7C1</th>\n",
       "      <td>2.099111</td>\n",
       "    </tr>\n",
       "  </tbody>\n",
       "</table>\n",
       "</div>"
      ],
      "text/plain": [
       "                                  tip_amount\n",
       "medallion                                   \n",
       "00005007A9F30E289E760362F69E4EAD    1.815854\n",
       "000318C2E3E6381580E5C99910A60668    2.857222\n",
       "000351EDC735C079246435340A54C7C1    2.099111"
      ]
     },
     "execution_count": 6,
     "metadata": {},
     "output_type": "execute_result"
    }
   ],
   "source": [
    "# 조인\n",
    "# 1. fare 에서 각 택시에서 받은 평균 팁구하기\n",
    "tip = fare[['medallion','tip_amount']].loc[fare.tip_amount >0].groupby('medallion').mean()\n",
    "print(len(tip))\n",
    "tip.head(3)"
   ]
  },
  {
   "cell_type": "code",
   "execution_count": 11,
   "metadata": {},
   "outputs": [
    {
     "data": {
      "text/plain": [
       "<matplotlib.text.Text at 0x7f798b9f27f0>"
      ]
     },
     "execution_count": 11,
     "metadata": {},
     "output_type": "execute_result"
    },
    {
     "name": "stderr",
     "output_type": "stream",
     "text": [
      "/opt/conda/lib/python3.6/site-packages/matplotlib/font_manager.py:1297: UserWarning: findfont: Font family ['sans-serif'] not found. Falling back to DejaVu Sans\n",
      "  (prop.get_family(), self.defaultFamily[fontext]))\n"
     ]
    },
    {
     "data": {
      "image/png": "[encoded data removed]",
      "text/plain": [
       "<matplotlib.figure.Figure at 0x7f79858172b0>"
      ]
     },
     "metadata": {},
     "output_type": "display_data"
    }
   ],
   "source": [
    "tip.hist(bins=np.linspace(0., 6., 100))\n",
    "plt.xlabel('Avg Tip')\n",
    "plt.ylabel('number of Taxi')"
   ]
  },
  {
   "cell_type": "code",
   "execution_count": 12,
   "metadata": {},
   "outputs": [
    {
     "data": {
      "text/html": [
       "<div>\n",
       "<style>\n",
       "    .dataframe thead tr:only-child th {\n",
       "        text-align: right;\n",
       "    }\n",
       "\n",
       "    .dataframe thead th {\n",
       "        text-align: left;\n",
       "    }\n",
       "\n",
       "    .dataframe tbody tr th {\n",
       "        vertical-align: top;\n",
       "    }\n",
       "</style>\n",
       "<table border=\"1\" class=\"dataframe\">\n",
       "  <thead>\n",
       "    <tr style=\"text-align: right;\">\n",
       "      <th></th>\n",
       "      <th>medallion</th>\n",
       "      <th>hack_license</th>\n",
       "      <th>vendor_id</th>\n",
       "      <th>rate_code</th>\n",
       "      <th>store_and_fwd_flag</th>\n",
       "      <th>pickup_datetime</th>\n",
       "      <th>dropoff_datetime</th>\n",
       "      <th>passenger_count</th>\n",
       "      <th>trip_time_in_secs</th>\n",
       "      <th>trip_distance</th>\n",
       "      <th>pickup_longitude</th>\n",
       "      <th>pickup_latitude</th>\n",
       "      <th>dropoff_longitude</th>\n",
       "      <th>dropoff_latitude</th>\n",
       "      <th>tip_amount</th>\n",
       "    </tr>\n",
       "  </thead>\n",
       "  <tbody>\n",
       "    <tr>\n",
       "      <th>0</th>\n",
       "      <td>76942C3205E17D7E7FE5A9F709D16434</td>\n",
       "      <td>25BA06A87905667AA1FE5990E33F0E2E</td>\n",
       "      <td>VTS</td>\n",
       "      <td>1</td>\n",
       "      <td>NaN</td>\n",
       "      <td>2013-01-01 00:00:00</td>\n",
       "      <td>2013-01-01 00:05:00</td>\n",
       "      <td>3</td>\n",
       "      <td>300</td>\n",
       "      <td>0.61</td>\n",
       "      <td>-73.955925</td>\n",
       "      <td>40.781887</td>\n",
       "      <td>-73.963181</td>\n",
       "      <td>40.777832</td>\n",
       "      <td>3.180417</td>\n",
       "    </tr>\n",
       "    <tr>\n",
       "      <th>1</th>\n",
       "      <td>517C6B330DBB3F055D007B07512628B3</td>\n",
       "      <td>2C19FBEE1A6E05612EFE4C958C14BC7F</td>\n",
       "      <td>VTS</td>\n",
       "      <td>1</td>\n",
       "      <td>NaN</td>\n",
       "      <td>2013-01-01 00:05:00</td>\n",
       "      <td>2013-01-01 00:21:00</td>\n",
       "      <td>1</td>\n",
       "      <td>960</td>\n",
       "      <td>3.28</td>\n",
       "      <td>-74.005501</td>\n",
       "      <td>40.745735</td>\n",
       "      <td>-73.964943</td>\n",
       "      <td>40.755722</td>\n",
       "      <td>2.863235</td>\n",
       "    </tr>\n",
       "    <tr>\n",
       "      <th>2</th>\n",
       "      <td>ED15611F168E41B33619C83D900FE266</td>\n",
       "      <td>754AEBD7C80DA17BA1D81D89FB6F4D1D</td>\n",
       "      <td>CMT</td>\n",
       "      <td>1</td>\n",
       "      <td>N</td>\n",
       "      <td>2013-01-01 00:05:52</td>\n",
       "      <td>2013-01-01 00:12:18</td>\n",
       "      <td>1</td>\n",
       "      <td>386</td>\n",
       "      <td>1.50</td>\n",
       "      <td>-73.969955</td>\n",
       "      <td>40.799770</td>\n",
       "      <td>-73.954567</td>\n",
       "      <td>40.787392</td>\n",
       "      <td>2.147143</td>\n",
       "    </tr>\n",
       "  </tbody>\n",
       "</table>\n",
       "</div>"
      ],
      "text/plain": [
       "                          medallion                      hack_license  \\\n",
       "0  76942C3205E17D7E7FE5A9F709D16434  25BA06A87905667AA1FE5990E33F0E2E   \n",
       "1  517C6B330DBB3F055D007B07512628B3  2C19FBEE1A6E05612EFE4C958C14BC7F   \n",
       "2  ED15611F168E41B33619C83D900FE266  754AEBD7C80DA17BA1D81D89FB6F4D1D   \n",
       "\n",
       "  vendor_id  rate_code store_and_fwd_flag     pickup_datetime  \\\n",
       "0       VTS          1                NaN 2013-01-01 00:00:00   \n",
       "1       VTS          1                NaN 2013-01-01 00:05:00   \n",
       "2       CMT          1                  N 2013-01-01 00:05:52   \n",
       "\n",
       "     dropoff_datetime  passenger_count  trip_time_in_secs  trip_distance  \\\n",
       "0 2013-01-01 00:05:00                3                300           0.61   \n",
       "1 2013-01-01 00:21:00                1                960           3.28   \n",
       "2 2013-01-01 00:12:18                1                386           1.50   \n",
       "\n",
       "   pickup_longitude  pickup_latitude  dropoff_longitude  dropoff_latitude  \\\n",
       "0        -73.955925        40.781887         -73.963181         40.777832   \n",
       "1        -74.005501        40.745735         -73.964943         40.755722   \n",
       "2        -73.969955        40.799770         -73.954567         40.787392   \n",
       "\n",
       "   tip_amount  \n",
       "0    3.180417  \n",
       "1    2.863235  \n",
       "2    2.147143  "
      ]
     },
     "execution_count": 12,
     "metadata": {},
     "output_type": "execute_result"
    }
   ],
   "source": [
    "# 2. data 에 이 정보 넣기\n",
    "#  how='left' 는 left outer join을 의미\n",
    "#  left_on='medallion' 는 왼쪽 데이터프레임에서 조인할 키값\n",
    "#  right_index=True 는 tip 데이터프레임이 medallion 으로 인덱스되어 있기 때문에 인덱스를 사용한다.\n",
    "\n",
    "data_merged = pd.merge(data, tip, how='left', left_on='medallion', right_index=True)\n",
    "data_merged.head(3)"
   ]
  }
 ],
 "metadata": {
  "kernelspec": {
   "display_name": "Python 3",
   "language": "python",
   "name": "python3"
  },
  "language_info": {
   "codemirror_mode": {
    "name": "ipython",
    "version": 3
   },
   "file_extension": ".py",
   "mimetype": "text/x-python",
   "name": "python",
   "nbconvert_exporter": "python",
   "pygments_lexer": "ipython3",
   "version": "3.6.1"
  }
 },
 "nbformat": 4,
 "nbformat_minor": 2
}
